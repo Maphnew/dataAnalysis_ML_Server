{
 "cells": [
  {
   "cell_type": "markdown",
   "metadata": {},
   "source": [
    "## IMPORT Library"
   ]
  },
  {
   "cell_type": "code",
   "execution_count": 730,
   "metadata": {},
   "outputs": [],
   "source": [
    "import pandas as pd\n",
    "import pymysql\n",
    "import math\n",
    "import numpy as np\n",
    "import matplotlib.pyplot as plt"
   ]
  },
  {
   "cell_type": "markdown",
   "metadata": {},
   "source": [
    "## Define functions"
   ]
  },
  {
   "cell_type": "code",
   "execution_count": 731,
   "metadata": {},
   "outputs": [],
   "source": [
    "# 0,0,0,3,56,7,2,0,0,0,4,3,4,56,32,0,0,0,0 \n",
    "# => [[3,56,7,2],[4,3,4,56,32]]\n",
    "def get_list(queue):\n",
    "    '''\n",
    "     [0,0,0,3,56,7,2,0,0,0,4,3,4,56,32,0,0,0,0]\n",
    "     => [[3,56,7,2],[4,3,4,56,32]]\n",
    "    '''\n",
    "    result = []\n",
    "    tmp = []\n",
    "    \n",
    "    while(len(queue)>0):\n",
    "        e = queue.pop(0)\n",
    "        if e != 0 :\n",
    "            tmp.append(e)\n",
    "            # print(e)\n",
    "        elif len(tmp)>0:\n",
    "            result.append(tmp)\n",
    "            tmp = []\n",
    "            # print(result)\n",
    "        else:\n",
    "            continue\n",
    "    \n",
    "    return result\n",
    "\n",
    "def get_index(queue):\n",
    "    '''\n",
    "     [0,0,0,3,56,7,2,0,0,0,4,3,4,56,32,0,0,0,0]\n",
    "     => [[3,4,5,6],[10,11,12,13,14]]\n",
    "    '''\n",
    "    result = []\n",
    "    tmp = []\n",
    "    # print(len(queue))\n",
    "    \n",
    "    for i in range(len(queue)):\n",
    "        e = queue.pop(0)\n",
    "        if e != 0:\n",
    "            tmp.append(i)\n",
    "            # print(i)\n",
    "        elif len(tmp)>0:\n",
    "            result.append(tmp)\n",
    "            tmp = []\n",
    "            # print(result)\n",
    "        else:\n",
    "            continue\n",
    "    # print(\"result: \", result)\n",
    "    return result\n",
    "\n",
    "def get_index_2(queue):\n",
    "    '''\n",
    "     [0,0,0,3,56,7,2,0,0,0,4,3,4,56,32,0,0,0,0]\n",
    "     => [[3,4,5,6],[10,11,12,13,14]]\n",
    "    '''\n",
    "    result = []\n",
    "    tmp = []\n",
    "    # print(len(queue))\n",
    "    \n",
    "    \n",
    "    for i in range(len(queue)):\n",
    "        if len(queue) >=  4:\n",
    "            e0 = queue.pop(0)\n",
    "            e1 = queue[0]\n",
    "            e2 = queue[1]\n",
    "            # print(e0, e1, e2)\n",
    "\n",
    "        if e0 != 0:\n",
    "            tmp.append(i) \n",
    "            # print(\"01 if\")\n",
    "        elif len(tmp)>0 and (e1 != 0 or e2 != 0):\n",
    "            tmp.append(i)\n",
    "            # print(\"02 elif\")\n",
    "        elif len(tmp)>0 and e1 == 0 and e2 == 0:\n",
    "            # print(\"03 elif\")\n",
    "            result.append(tmp)\n",
    "            tmp = []\n",
    "        else:\n",
    "            # print(\"04 else\")\n",
    "            pass\n",
    "#         print(\"tmp: \", tmp)\n",
    "#         print(\"result\", result)\n",
    "#         print(\"   \")\n",
    "\n",
    "    return result\n",
    "\n",
    "    \n",
    "    "
   ]
  },
  {
   "cell_type": "markdown",
   "metadata": {},
   "source": [
    "## Read DB & get data"
   ]
  },
  {
   "cell_type": "code",
   "execution_count": 732,
   "metadata": {},
   "outputs": [],
   "source": [
    "columns = ['DataSavedTime', 'Item']"
   ]
  },
  {
   "cell_type": "code",
   "execution_count": 733,
   "metadata": {},
   "outputs": [
    {
     "name": "stdout",
     "output_type": "stream",
     "text": [
      "                DataSavedTime  Item\n",
      "0     2019-11-28 09:30:00.000  0.00\n",
      "1     2019-11-28 09:30:00.100  0.00\n",
      "2     2019-11-28 09:30:00.200  0.00\n",
      "3     2019-11-28 09:30:00.300  0.00\n",
      "4     2019-11-28 09:30:00.400  0.00\n",
      "...                       ...   ...\n",
      "82940 2019-11-28 11:39:59.700  0.00\n",
      "82941 2019-11-28 11:39:59.700  1.29\n",
      "82942 2019-11-28 11:39:59.800  1.27\n",
      "82943 2019-11-28 11:39:59.900  1.27\n",
      "82944 2019-11-28 11:40:00.000  1.27\n",
      "\n",
      "[82945 rows x 2 columns]\n"
     ]
    }
   ],
   "source": [
    "conn = pymysql.connect(\n",
    "    host='192.168.100.225',\n",
    "    port=3306,\n",
    "    user='root',\n",
    "    password='its@1234',\n",
    "    db='KIA_India_test',\n",
    "    charset='utf8'\n",
    ")\n",
    "\n",
    "curs = conn.cursor()\n",
    "# DL\n",
    "# item = \"Item055\"\n",
    "# exception = 10\n",
    "# item = \"Item016\"\n",
    "# exception = 20\n",
    "# item = \"Item018\"\n",
    "# exception = 20\n",
    "# item = \"Item032\"\n",
    "# exception = 15\n",
    "# item = \"Item033\"\n",
    "# exception = 20\n",
    "\n",
    "# TL\n",
    "# item = \"Item001\"\n",
    "# exception = 30\n",
    "# item = \"Item002\"\n",
    "# exception = 20\n",
    "# item = \"Item013\"\n",
    "# exception = 10\n",
    "# item = \"Item014\"\n",
    "# exception = 15\n",
    "# item = \"Item021\"\n",
    "# exception = 20\n",
    "# item = \"Item022\"\n",
    "# exception = 20\n",
    "# item = \"Item023\"\n",
    "# exception = 20\n",
    "# item = \"Item024\"\n",
    "# exception = 20\n",
    "# item = \"Item025\"\n",
    "# exception = 20\n",
    "# item = \"Item026\"\n",
    "# exception = 10\n",
    "# item = \"Item027\"\n",
    "# exception = 20\n",
    "item = \"Item028\"\n",
    "exception = 20\n",
    "\n",
    "\n",
    "sql = \"select DataSavedTime, \"+item+\" from HisItemCurr WHERE DataSavedTime between \\\n",
    "    '2019-11-28 00:00:01' and '2019-11-28 12:00:00' ORDER BY DataSavedTime ASC\"\n",
    "curs.execute(sql)\n",
    "\n",
    "rows=curs.fetchall()\n",
    "# print(rows)\n",
    "li = list(rows)\n",
    "conn.close()\n",
    "df = pd.DataFrame(li)\n",
    "df.columns = columns\n",
    "df = df.fillna(0)\n",
    "print(df)"
   ]
  },
  {
   "cell_type": "markdown",
   "metadata": {},
   "source": [
    "## Getting each wave form"
   ]
  },
  {
   "cell_type": "code",
   "execution_count": 734,
   "metadata": {
    "scrolled": false
   },
   "outputs": [
    {
     "name": "stdout",
     "output_type": "stream",
     "text": [
      "                      start                    stop       avg    area\n",
      "0   2019-11-28 09:30:27.100 2019-11-28 09:30:33.700  1.196528   86.15\n",
      "1   2019-11-28 09:30:40.800 2019-11-28 09:30:47.300  1.345556   96.88\n",
      "2   2019-11-28 09:30:56.100 2019-11-28 09:31:03.000  1.176494   90.59\n",
      "3   2019-11-28 09:31:09.800 2019-11-28 09:31:16.300  1.324247   96.67\n",
      "4   2019-11-28 09:32:49.300 2019-11-28 09:32:55.800  1.370704   97.32\n",
      "..                      ...                     ...       ...     ...\n",
      "153 2019-11-28 11:37:30.200 2019-11-28 11:37:37.000  1.373662   97.53\n",
      "154 2019-11-28 11:37:45.700 2019-11-28 11:37:52.600  1.429459  105.78\n",
      "155 2019-11-28 11:37:59.300 2019-11-28 11:38:05.900  1.265135   93.62\n",
      "156 2019-11-28 11:39:26.600 2019-11-28 11:39:33.200  1.355217   93.51\n",
      "157 2019-11-28 11:39:40.200 2019-11-28 11:39:46.700  1.390735   94.57\n",
      "\n",
      "[158 rows x 4 columns]\n"
     ]
    }
   ],
   "source": [
    "Item = list(df['Item'])\n",
    "Item_zero = [0 if v is None or np.isnan(v) else v for v in Item]\n",
    "# print(\"sum(Item_zero) : \", sum(Item_zero))\n",
    "result_i = get_index_2(Item_zero)\n",
    "# print(result_i)\n",
    "ln = []\n",
    "# peak_list = []\n",
    "sum_list = []\n",
    "mean_list = []\n",
    "start_list = []\n",
    "stop_list = []\n",
    "\n",
    "for i in range(len(result_i)):\n",
    "    a = result_i[i]\n",
    "    if len(a) <= exception:\n",
    "        continue\n",
    "    else:\n",
    "        # print(\"Step: \", i, \"len: \", len(a))\n",
    "        # print(a)\n",
    "        # print(\"Start Index:\", a[0], \"Stop Index:\", a[-1])\n",
    "        # print(len(a))\n",
    "\n",
    "        stti = a[0]+exception\n",
    "        # print(stti)\n",
    "        stpi = a[-1]\n",
    "        tmp_df = df.iloc[stti:stpi+1]\n",
    "        # print(tmp_df.shape)\n",
    "        # print(tmp_df)\n",
    "        # print(\"tmp_df['Item']: \", tmp_df['Item'])\n",
    "        sum_list.append(sum(tmp_df['Item']))\n",
    "        # print(\"mean(avg)\", np.mean(tmp_df['Item']))\n",
    "        mean_list.append(np.mean(tmp_df['Item']))\n",
    "        # print(\"peak\", max(tmp_df['Item']))\n",
    "        # peak_list.append(max(tmp_df['Item']))\n",
    "        start = tmp_df['DataSavedTime'].iloc[0]\n",
    "        start_list.append(start)\n",
    "        stop = tmp_df['DataSavedTime'].iloc[-1]\n",
    "        stop_list.append(stop)\n",
    "        # print(\"Start:\", tmp_df['DataSavedTime'].iloc[0], \"Stop:\", tmp_df['DataSavedTime'].iloc[-1])\n",
    "        # print(stop - start)\n",
    "        # plt.plot(tmp_df['DataSavedTime'], tmp_df['Item'])\n",
    "        # plt.show()\n",
    "        # ln.append(len(a))\n",
    "    \n",
    "# plt.hist(ln)\n",
    "# print(len(ln))\n",
    "\n",
    "dict_data = {'start': start_list, 'stop':stop_list, 'avg': mean_list, 'area': sum_list}\n",
    "\n",
    "df_dict = pd.DataFrame(dict_data)\n",
    "print(df_dict)"
   ]
  },
  {
   "cell_type": "code",
   "execution_count": 735,
   "metadata": {},
   "outputs": [],
   "source": [
    "df_dict.to_csv(item + \"_analysis_2019-11-28.csv\", header=True)"
   ]
  },
  {
   "cell_type": "code",
   "execution_count": null,
   "metadata": {},
   "outputs": [],
   "source": []
  },
  {
   "cell_type": "code",
   "execution_count": null,
   "metadata": {},
   "outputs": [],
   "source": []
  },
  {
   "cell_type": "code",
   "execution_count": null,
   "metadata": {},
   "outputs": [],
   "source": []
  },
  {
   "cell_type": "code",
   "execution_count": null,
   "metadata": {},
   "outputs": [],
   "source": []
  },
  {
   "cell_type": "code",
   "execution_count": null,
   "metadata": {},
   "outputs": [],
   "source": []
  },
  {
   "cell_type": "code",
   "execution_count": null,
   "metadata": {},
   "outputs": [],
   "source": []
  },
  {
   "cell_type": "code",
   "execution_count": null,
   "metadata": {},
   "outputs": [],
   "source": []
  }
 ],
 "metadata": {
  "kernelspec": {
   "display_name": "Python 3",
   "language": "python",
   "name": "python3"
  },
  "language_info": {
   "codemirror_mode": {
    "name": "ipython",
    "version": 3
   },
   "file_extension": ".py",
   "mimetype": "text/x-python",
   "name": "python",
   "nbconvert_exporter": "python",
   "pygments_lexer": "ipython3",
   "version": "3.6.8"
  }
 },
 "nbformat": 4,
 "nbformat_minor": 2
}

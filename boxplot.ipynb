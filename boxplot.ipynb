{
 "cells": [
  {
   "cell_type": "code",
   "execution_count": 44,
   "metadata": {},
   "outputs": [
    {
     "name": "stdout",
     "output_type": "stream",
     "text": [
      "Collecting seaborn\n",
      "\u001b[?25l  Downloading https://files.pythonhosted.org/packages/a8/76/220ba4420459d9c4c9c9587c6ce607bf56c25b3d3d2de62056efe482dadc/seaborn-0.9.0-py3-none-any.whl (208kB)\n",
      "\u001b[K     |████████████████████████████████| 215kB 796kB/s eta 0:00:01\n",
      "\u001b[?25hRequirement already satisfied: numpy>=1.9.3 in /usr/local/lib/python3.6/dist-packages (from seaborn) (1.17.2)\n",
      "Requirement already satisfied: pandas>=0.15.2 in /usr/local/lib/python3.6/dist-packages (from seaborn) (0.25.1)\n",
      "Requirement already satisfied: scipy>=0.14.0 in /usr/local/lib/python3.6/dist-packages (from seaborn) (1.3.1)\n",
      "Requirement already satisfied: matplotlib>=1.4.3 in /usr/local/lib/python3.6/dist-packages (from seaborn) (3.1.0)\n",
      "Requirement already satisfied: python-dateutil>=2.6.1 in /usr/local/lib/python3.6/dist-packages (from pandas>=0.15.2->seaborn) (2.8.0)\n",
      "Requirement already satisfied: pytz>=2017.2 in /usr/local/lib/python3.6/dist-packages (from pandas>=0.15.2->seaborn) (2019.2)\n",
      "Requirement already satisfied: kiwisolver>=1.0.1 in /usr/local/lib/python3.6/dist-packages (from matplotlib>=1.4.3->seaborn) (1.1.0)\n",
      "Requirement already satisfied: cycler>=0.10 in /usr/local/lib/python3.6/dist-packages (from matplotlib>=1.4.3->seaborn) (0.10.0)\n",
      "Requirement already satisfied: pyparsing!=2.0.4,!=2.1.2,!=2.1.6,>=2.0.1 in /usr/local/lib/python3.6/dist-packages (from matplotlib>=1.4.3->seaborn) (2.4.0)\n",
      "Requirement already satisfied: six>=1.5 in /usr/local/lib/python3.6/dist-packages (from python-dateutil>=2.6.1->pandas>=0.15.2->seaborn) (1.12.0)\n",
      "Requirement already satisfied: setuptools in /usr/local/lib/python3.6/dist-packages (from kiwisolver>=1.0.1->matplotlib>=1.4.3->seaborn) (41.0.1)\n",
      "Installing collected packages: seaborn\n",
      "Successfully installed seaborn-0.9.0\n"
     ]
    }
   ],
   "source": [
    "# ! pip install seaborn\n",
    "import pandas as pd\n",
    "import numpy as np\n",
    "import pymysql\n",
    "import matplotlib.pyplot as plt\n",
    "\n",
    "import seaborn as sns\n",
    "\n",
    "plt.rcParams['figure.figsize'] = [10, 6]\n",
    "\n",
    "%matplotlib inline\n"
   ]
  },
  {
   "cell_type": "code",
   "execution_count": 61,
   "metadata": {
    "scrolled": true
   },
   "outputs": [],
   "source": [
    "conn = pymysql.connect(\n",
    "    host='192.168.100.50',\n",
    "    port=16033,\n",
    "    user='root',\n",
    "    password='its@1234',\n",
    "    db='UYeG_Cloud',\n",
    "    charset='utf8'\n",
    ")\n",
    "\n",
    "curs = conn.cursor()\n",
    "\n",
    "\n",
    "# 2019-10-09 10:00:00 ~ 2019-10-10 10:00:00 : 10초 데이터 가져오기\n",
    "sql = \"select Item005 from HisItemCurr10Seconds WHERE DataSavedTime between \\\n",
    "    '2019-10-09 10:00:00' and '2019-10-10 10:00:00' ORDER BY DataSavedTime DESC\"\n",
    "curs.execute(sql)\n",
    "\n",
    "rows=curs.fetchall()\n",
    "conn.close()\n",
    "\n",
    "compare_data = list(rows)\n",
    "\n",
    "# li = list(t)\n",
    "\n",
    "# 람다식으로 list 만들기 comprehension\n",
    "# [row for row in map(lambda x: x[0], li) if row != None]\n",
    "\n",
    "compare_data = list(filter(lambda x: x != None, map(lambda x: x[0], compare_data)))"
   ]
  },
  {
   "cell_type": "code",
   "execution_count": 63,
   "metadata": {},
   "outputs": [
    {
     "name": "stdout",
     "output_type": "stream",
     "text": [
      "45.989999999999995\n"
     ]
    },
    {
     "data": {
      "image/png": "[encoded data removed]",
      "text/plain": [
       "<Figure size 432x288 with 1 Axes>"
      ]
     },
     "metadata": {
      "needs_background": "light"
     },
     "output_type": "display_data"
    }
   ],
   "source": [
    "print(np.median(compare_data))\n",
    "# Basic box plot\n",
    "\n",
    "plt.boxplot(compare_data, sym=\"bo\")\n",
    "plt.title('Box plot of Max Current')\n",
    "plt.xticks([1], ['Max Current'])\n",
    "plt.show()"
   ]
  },
  {
   "cell_type": "code",
   "execution_count": 66,
   "metadata": {
    "scrolled": false
   },
   "outputs": [
    {
     "name": "stdout",
     "output_type": "stream",
     "text": [
      "30.36\n"
     ]
    },
    {
     "data": {
      "image/png": "[encoded data removed]",
      "text/plain": [
       "<Figure size 432x288 with 1 Axes>"
      ]
     },
     "metadata": {
      "needs_background": "light"
     },
     "output_type": "display_data"
    }
   ],
   "source": [
    "conn2 = pymysql.connect(\n",
    "    host='192.168.100.50',\n",
    "    port=16033,\n",
    "    user='root',\n",
    "    password='its@1234',\n",
    "    db='UYeG_Cloud',\n",
    "    charset='utf8'\n",
    ")\n",
    "\n",
    "# 2019-10-10 10:00:00 ~ 2019-10-10 11:00:00 : 1초 데이터 가져오기\n",
    "sql2 = \"select Item005 from HisItemCurrSecond WHERE DataSavedTime between \\\n",
    "    '2019-10-10 10:00:00' and '2019-10-10 11:00:00' ORDER BY DataSavedTime DESC\"\n",
    "curs2 = conn2.cursor()\n",
    "\n",
    "curs2.execute(sql2)\n",
    "\n",
    "rows2=curs2.fetchall()\n",
    "\n",
    "conn2.close()\n",
    "\n",
    "current_data = list(rows2)\n",
    "current_data = list(filter(lambda x: x != None, map(lambda x: x[0], current_data)))\n",
    "\n",
    "print(np.median(current_data))\n",
    "# Basic box plot\n",
    "\n",
    "plt.boxplot(current_data, sym=\"bo\")\n",
    "plt.title('Box plot of Max Current')\n",
    "plt.xticks([1], ['Max Current'])\n",
    "plt.show()"
   ]
  },
  {
   "cell_type": "code",
   "execution_count": 48,
   "metadata": {},
   "outputs": [
    {
     "data": {
      "text/plain": [
       "45.989999999999995"
      ]
     },
     "execution_count": 48,
     "metadata": {},
     "output_type": "execute_result"
    }
   ],
   "source": []
  }
 ],
 "metadata": {
  "kernelspec": {
   "display_name": "Python 3",
   "language": "python",
   "name": "python3"
  },
  "language_info": {
   "codemirror_mode": {
    "name": "ipython",
    "version": 3
   },
   "file_extension": ".py",
   "mimetype": "text/x-python",
   "name": "python",
   "nbconvert_exporter": "python",
   "pygments_lexer": "ipython3",
   "version": "3.6.8"
  }
 },
 "nbformat": 4,
 "nbformat_minor": 2
}

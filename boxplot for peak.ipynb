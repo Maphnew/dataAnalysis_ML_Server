{
 "cells": [
  {
   "cell_type": "code",
   "execution_count": 1,
   "metadata": {},
   "outputs": [],
   "source": [
    "import pandas as pd\n",
    "import numpy as np\n",
    "import pymysql\n",
    "import matplotlib.pyplot as plt\n",
    "import seaborn as sns\n",
    "plt.rcParams['figure.figsize'] = [10, 6]\n",
    "%matplotlib inline"
   ]
  },
  {
   "cell_type": "code",
   "execution_count": 6,
   "metadata": {},
   "outputs": [
    {
     "name": "stdout",
     "output_type": "stream",
     "text": [
      "SELECT Value FROM HisPeak10Seconds WHERE DefTable = 'HisItemCurr' AND DefColumn = 'Item005' and DataSavedTime     BETWEEN '2019-10-09 11:00:00' and '2019-10-10 11:00:00' ORDER BY DataSavedTime DESC\n",
      "SELECT Value FROM HisPeak WHERE DefTable = 'HisItemCurr' AND DefColumn = 'Item005' and DataSavedTime     BETWEEN '2019-10-10 11:00:00' and '2019-10-10 12:00:00' ORDER BY DataSavedTime DESC\n"
     ]
    },
    {
     "data": {
      "image/png": "[encoded data removed]",
      "text/plain": [
       "<Figure size 432x288 with 1 Axes>"
      ]
     },
     "metadata": {
      "needs_background": "light"
     },
     "output_type": "display_data"
    },
    {
     "name": "stdout",
     "output_type": "stream",
     "text": [
      "compare_data Median 54.41\n",
      "MAX:  96.32\n",
      "Q2 quantile of compare_data :  54.41\n",
      "Q1 quantile of compare_data :  47.09\n",
      "Q3 quantile of compare_data :  57.995000000000005\n",
      "100th quantile of compare_data :  45.34400000000001\n",
      "MIN:  43.38\n"
     ]
    },
    {
     "data": {
      "image/png": "[encoded data removed]",
      "text/plain": [
       "<Figure size 432x288 with 1 Axes>"
      ]
     },
     "metadata": {
      "needs_background": "light"
     },
     "output_type": "display_data"
    },
    {
     "name": "stdout",
     "output_type": "stream",
     "text": [
      "current_data Median 51.55\n",
      "MAX:  63.67\n",
      "Q2 quantile of current_data :  51.55\n",
      "Q1 quantile of current_data :  46.38\n",
      "Q3 quantile of current_data :  56.44\n",
      "100th quantile of current_data :  45.328\n",
      "MIN:  44.56\n",
      "A: median of compare_data\n",
      "B: median of current_data\n",
      "C = A-B = 2.8599999999999994\n",
      "D = C/B= 0.05548011639185256\n",
      "5.55%\n",
      "유의수준 0.1 하에서 지난 24시간의 Peak의 중위값과 지난 1시간 Peak의 중위값이 동일하다고 할 수 있다.\n"
     ]
    }
   ],
   "source": [
    "conn = pymysql.connect(\n",
    "    host='192.168.100.50',\n",
    "    port=16033,\n",
    "    user='root',\n",
    "    password='its@1234',\n",
    "    db='UYeG_Cloud',\n",
    "    charset='utf8'\n",
    ")\n",
    "\n",
    "curs = conn.cursor()\n",
    "\n",
    "set_day1 = '2019-10-09 11:00:00'\n",
    "set_day2 = '2019-10-10 11:00:00'\n",
    "set_day3 = '2019-10-10 11:00:00'\n",
    "set_day4 = '2019-10-10 12:00:00'\n",
    "\n",
    "# LAST 24HOURS : 2019-10-09 10:00:00 ~ 2019-10-10 10:00:00 : 10초 데이터 가져오기\n",
    "sql = \"SELECT Value FROM HisPeak10Seconds WHERE DefTable = 'HisItemCurr' AND DefColumn = 'Item005' and DataSavedTime \\\n",
    "    BETWEEN '\"+set_day1+\"' and '\"+set_day2+\"' ORDER BY DataSavedTime DESC\"\n",
    "print(sql)\n",
    "curs.execute(sql)\n",
    "\n",
    "rows=curs.fetchall()\n",
    "\n",
    "# LAST 1HOUR : 2019-10-10 10:00:00 ~ 2019-10-10 11:00:00 : 1초 데이터 가져오기\n",
    "sql2 = \"SELECT Value FROM HisPeak WHERE DefTable = 'HisItemCurr' AND DefColumn = 'Item005' and DataSavedTime \\\n",
    "    BETWEEN '\"+set_day3+\"' and '\"+set_day4+\"' ORDER BY DataSavedTime DESC\"\n",
    "print(sql2)\n",
    "curs.execute(sql2)\n",
    "rows2=curs.fetchall()\n",
    "conn.close()\n",
    "\n",
    "compare_data = list(rows)\n",
    "current_data = list(rows2)\n",
    "\n",
    "# 람다식으로 list 만들기 comprehension\n",
    "# [row for row in map(lambda x: x[0], li) if row != None]\n",
    "compare_data = list(filter(lambda x: x != None, map(lambda x: x[0], compare_data)))\n",
    "current_data = list(filter(lambda x: x != None, map(lambda x: x[0], current_data)))\n",
    "\n",
    "\n",
    "# Basic box plot\n",
    "plt.boxplot(compare_data, sym=\"bo\")\n",
    "plt.title('Box plot of Peak compare_data 24Hour')\n",
    "plt.xticks([1], ['Peak'])\n",
    "plt.show()\n",
    "\n",
    "print('compare_data Median', np.median(compare_data))\n",
    "print(\"MAX: \", np.max(compare_data))\n",
    "print(\"Q2 quantile of compare_data : \", np.quantile(compare_data, .50)) \n",
    "print(\"Q1 quantile of compare_data : \", np.quantile(compare_data, .25)) \n",
    "print(\"Q3 quantile of compare_data : \", np.quantile(compare_data, .75)) \n",
    "print(\"100th quantile of compare_data : \", np.quantile(compare_data, .1))  \n",
    "print(\"MIN: \", np.min(compare_data))\n",
    "\n",
    "plt.boxplot(current_data, sym=\"bo\")\n",
    "plt.title('Box plot of Peak current_data 1Hour')\n",
    "plt.xticks([1], ['Peak'])\n",
    "plt.show()\n",
    "\n",
    "print('current_data Median', np.median(current_data))\n",
    "print(\"MAX: \", np.max(current_data))\n",
    "print(\"Q2 quantile of current_data : \", np.quantile(current_data, .50)) \n",
    "print(\"Q1 quantile of current_data : \", np.quantile(current_data, .25)) \n",
    "print(\"Q3 quantile of current_data : \", np.quantile(current_data, .75)) \n",
    "print(\"100th quantile of current_data : \", np.quantile(current_data, .1))  \n",
    "print(\"MIN: \", np.min(current_data))\n",
    "\n",
    "a = np.median(compare_data)\n",
    "b = np.median(current_data)\n",
    "c = np.median(compare_data) - np.median(current_data)\n",
    "d = c/b\n",
    "print(\"A: median of compare_data\")\n",
    "print(\"B: median of current_data\")\n",
    "\n",
    "print(\"C = A-B =\", c)\n",
    "print('D = C/B=', d)\n",
    "print(str(format(d*100, \".2f\")) + '%')\n",
    "if d < 0.01:\n",
    "    print(\"유의수준 0.01 하에서 지난 24시간의 Peak의 중위값과 지난 1시간 Peak의 중위값이 동일하다고 할 수 있다.\")\n",
    "elif d < 0.05:\n",
    "    print(\"유의수준 0.05 하에서 지난 24시간의 Peak의 중위값과 지난 1시간 Peak의 중위값이 동일하다고 할 수 있다.\")\n",
    "elif d < 0.1:\n",
    "    print(\"유의수준 0.1 하에서 지난 24시간의 Peak의 중위값과 지난 1시간 Peak의 중위값이 동일하다고 할 수 있다.\")\n",
    "else:\n",
    "    print(\"bad\")"
   ]
  }
 ],
 "metadata": {
  "kernelspec": {
   "display_name": "Python 3",
   "language": "python",
   "name": "python3"
  },
  "language_info": {
   "codemirror_mode": {
    "name": "ipython",
    "version": 3
   },
   "file_extension": ".py",
   "mimetype": "text/x-python",
   "name": "python",
   "nbconvert_exporter": "python",
   "pygments_lexer": "ipython3",
   "version": "3.6.8"
  }
 },
 "nbformat": 4,
 "nbformat_minor": 2
}

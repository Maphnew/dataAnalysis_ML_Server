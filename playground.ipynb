{
 "cells": [
  {
   "cell_type": "code",
   "execution_count": 9,
   "metadata": {},
   "outputs": [
    {
     "name": "stdout",
     "output_type": "stream",
     "text": [
      "len:  18\n",
      "0\n",
      "len:  17\n",
      "0\n",
      "len:  16\n",
      "3\n",
      "len:  15\n",
      "56\n",
      "len:  14\n",
      "7\n",
      "len:  13\n",
      "2\n",
      "len:  12\n",
      "1\n",
      "len:  11\n",
      "0\n",
      "len:  10\n",
      "1\n",
      "len:  9\n",
      "4\n",
      "len:  8\n",
      "3\n",
      "len:  7\n",
      "4\n",
      "len:  6\n",
      "56\n",
      "len:  5\n",
      "32\n",
      "len:  4\n",
      "0\n",
      "len:  3\n",
      "3\n",
      "len:  2\n",
      "3\n",
      "len:  1\n",
      "0\n",
      "len:  0\n"
     ]
    },
    {
     "ename": "IndexError",
     "evalue": "list index out of range",
     "output_type": "error",
     "traceback": [
      "\u001b[0;31m\u001b[0m",
      "\u001b[0;31mIndexError\u001b[0mTraceback (most recent call last)",
      "\u001b[0;32m<ipython-input-9-2306beb8182a>\u001b[0m in \u001b[0;36m<module>\u001b[0;34m\u001b[0m\n\u001b[1;32m     12\u001b[0m     \u001b[0;31m# e1 = list_03.pop(1)\u001b[0m\u001b[0;34m\u001b[0m\u001b[0;34m\u001b[0m\u001b[0;34m\u001b[0m\u001b[0m\n\u001b[1;32m     13\u001b[0m     \u001b[0mprint\u001b[0m\u001b[0;34m(\u001b[0m\u001b[0;34m\"len: \"\u001b[0m\u001b[0;34m,\u001b[0m\u001b[0mlen\u001b[0m\u001b[0;34m(\u001b[0m\u001b[0mlist_03\u001b[0m\u001b[0;34m)\u001b[0m\u001b[0;34m)\u001b[0m\u001b[0;34m\u001b[0m\u001b[0;34m\u001b[0m\u001b[0m\n\u001b[0;32m---> 14\u001b[0;31m     \u001b[0mprint\u001b[0m\u001b[0;34m(\u001b[0m\u001b[0mlist_03\u001b[0m\u001b[0;34m[\u001b[0m\u001b[0;36m0\u001b[0m\u001b[0;34m]\u001b[0m\u001b[0;34m)\u001b[0m\u001b[0;34m\u001b[0m\u001b[0;34m\u001b[0m\u001b[0m\n\u001b[0m\u001b[1;32m     15\u001b[0m     \u001b[0;31m# print(list_03)\u001b[0m\u001b[0;34m\u001b[0m\u001b[0;34m\u001b[0m\u001b[0;34m\u001b[0m\u001b[0m\n",
      "\u001b[0;31mIndexError\u001b[0m: list index out of range"
     ]
    }
   ],
   "source": [
    "list_01 = [0,0,0,3,56,7,2,0,0,0,4,3,4,56,32,0,0,0,0]\n",
    "list_02 = [0,0,2,3,56,7,2,2,0,0,4,3,4,56,32,0,0,2,2]\n",
    "list_03 = [0,0,0,3,56,7,2,1,0,1,4,3,4,56,32,0,3,3,0]\n",
    "\n",
    "\n",
    "result = []\n",
    "tmp = []\n",
    "# print(len(queue))\n",
    "\n",
    "for i in range(len(list_03)):\n",
    "    e0 = list_03.pop(0)\n",
    "    # e1 = list_03.pop(1)\n",
    "    print(\"len: \",len(list_03))\n",
    "    print(list_03[0])\n",
    "    # print(list_03)"
   ]
  }
 ],
 "metadata": {
  "kernelspec": {
   "display_name": "Python 3",
   "language": "python",
   "name": "python3"
  },
  "language_info": {
   "codemirror_mode": {
    "name": "ipython",
    "version": 3
   },
   "file_extension": ".py",
   "mimetype": "text/x-python",
   "name": "python",
   "nbconvert_exporter": "python",
   "pygments_lexer": "ipython3",
   "version": "3.6.8"
  }
 },
 "nbformat": 4,
 "nbformat_minor": 2
}

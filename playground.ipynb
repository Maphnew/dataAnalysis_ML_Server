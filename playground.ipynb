{
 "cells": [
  {
   "cell_type": "code",
   "execution_count": 29,
   "metadata": {},
   "outputs": [
    {
     "name": "stdout",
     "output_type": "stream",
     "text": [
      "0 0 0\n",
      "2 3 56\n",
      "7 2 2\n",
      "0 0 4\n",
      "3 4 56\n",
      "32 0 0\n",
      "2 2 0\n",
      "0 0 1\n",
      "2 1 1\n",
      "1 1 0\n",
      "0 1 1\n",
      "result: []\n"
     ]
    }
   ],
   "source": [
    "list_01 = [0,0,0,3,56,7,2,0,0,0,4,3,4,56,32,0,0,0,0]\n",
    "list_02 = [0,0,0,2,3,56,7,2,2,0,0,4,3,4,56,32,0,0,2,2,0,0,0,1,2,1,1,1,1,0,0,1,1,1,0]\n",
    "list_03 = [0,0,0,3,56,7,2,1,0,1,4,3,4,56,32,0,3,3,0]\n",
    "\n",
    "list_test=[1,2,3,4,5,6,7,8,9,10,11]\n",
    "\n",
    "\n",
    "result = []\n",
    "tmp = []\n",
    "\n",
    "queue = list_02\n",
    "\n",
    "\n",
    "\n",
    "for i in range(len(queue)):\n",
    "    if len(queue) >=  3:\n",
    "        e0 = queue.pop(0)\n",
    "        e1 = queue.pop(0)\n",
    "        e2 = queue.pop(0)\n",
    "        print(e0, e1, e2)\n",
    "    \n",
    "    if e0 != 0:\n",
    "        tmp.append(i)\n",
    "    elif len(tmp)>0 and (e1 != 0 or e2 != 0):\n",
    "        tmp.append(i)\n",
    "    elif len(tmp)>0 and e1 == 0 and e2 == 0:\n",
    "        result.append(tmp)\n",
    "        tmp = []\n",
    "    else:\n",
    "        pass\n",
    "\n",
    "\n",
    "print(\"result:\", result)\n"
   ]
  }
 ],
 "metadata": {
  "kernelspec": {
   "display_name": "Python 3",
   "language": "python",
   "name": "python3"
  },
  "language_info": {
   "codemirror_mode": {
    "name": "ipython",
    "version": 3
   },
   "file_extension": ".py",
   "mimetype": "text/x-python",
   "name": "python",
   "nbconvert_exporter": "python",
   "pygments_lexer": "ipython3",
   "version": "3.6.8"
  }
 },
 "nbformat": 4,
 "nbformat_minor": 2
}

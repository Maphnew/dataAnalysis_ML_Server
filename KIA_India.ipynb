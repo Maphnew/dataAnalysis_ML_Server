{
 "cells": [
  {
   "cell_type": "markdown",
   "metadata": {},
   "source": [
    "## IMPORT Library"
   ]
  },
  {
   "cell_type": "code",
   "execution_count": 61,
   "metadata": {},
   "outputs": [],
   "source": [
    "import pandas as pd\n",
    "import pymysql\n",
    "import math\n",
    "import numpy as np\n",
    "import matplotlib.pyplot as plt"
   ]
  },
  {
   "cell_type": "markdown",
   "metadata": {},
   "source": [
    "## Define functions"
   ]
  },
  {
   "cell_type": "code",
   "execution_count": 62,
   "metadata": {},
   "outputs": [],
   "source": [
    "# 0,0,0,3,56,7,2,0,0,0,4,3,4,56,32,0,0,0,0 \n",
    "# => [[3,56,7,2],[4,3,4,56,32]]\n",
    "def get_list(queue):\n",
    "    '''\n",
    "     [0,0,0,3,56,7,2,0,0,0,4,3,4,56,32,0,0,0,0]\n",
    "     => [[3,56,7,2],[4,3,4,56,32]]\n",
    "    '''\n",
    "    result = []\n",
    "    tmp = []\n",
    "    \n",
    "    while(len(queue)>0):\n",
    "        e = queue.pop(0)\n",
    "        if ~np.isnan(e):\n",
    "            tmp.append(e)\n",
    "            # print(e)\n",
    "        elif len(tmp)>0:\n",
    "            result.append(tmp)\n",
    "            tmp = []\n",
    "            # print(result)\n",
    "        else:\n",
    "            continue\n",
    "   \n",
    "    return result\n",
    "\n",
    "def get_index(queue):\n",
    "    '''\n",
    "     [0,0,0,3,56,7,2,0,0,0,4,3,4,56,32,0,0,0,0]\n",
    "     => [[3,4,5,6],[10,11,12,13,14]]\n",
    "    '''\n",
    "    result = []\n",
    "    tmp = []\n",
    "    # print(len(queue))\n",
    "    \n",
    "    for i in range(len(queue)):\n",
    "        e = queue.pop(0)\n",
    "        if ~np.isnan(e):\n",
    "            tmp.append(i)\n",
    "            # print(i)\n",
    "        elif len(tmp)>0:\n",
    "            result.append(tmp)\n",
    "            tmp = []\n",
    "            # print(result)\n",
    "        else:\n",
    "            continue\n",
    "   \n",
    "    return result"
   ]
  },
  {
   "cell_type": "code",
   "execution_count": 9,
   "metadata": {
    "scrolled": true
   },
   "outputs": [
    {
     "name": "stdout",
     "output_type": "stream",
     "text": [
      "\n",
      "     [0,0,0,3,56,7,2,0,0,0,4,3,4,56,32,0,0,0,0]\n",
      "     => [[3,56,7,2],[4,3,4,56,32]]\n",
      "    \n",
      "\n",
      "     [0,0,0,3,56,7,2,0,0,0,4,3,4,56,32,0,0,0,0]\n",
      "     => [[3,4,5,6],[10,11,12,13,14]]\n",
      "    \n"
     ]
    }
   ],
   "source": [
    "print(get_list.__doc__)\n",
    "print(get_index.__doc__)"
   ]
  },
  {
   "cell_type": "markdown",
   "metadata": {},
   "source": [
    "## Read csv or DB & get data"
   ]
  },
  {
   "cell_type": "code",
   "execution_count": 49,
   "metadata": {},
   "outputs": [],
   "source": [
    "date_time_column = ['DataSavedTime', 'MilliSecond']\n",
    "column_list = ['Item{0:03d}'.format(item) for item in range(1,451)]\n",
    "columns = date_time_column + column_list"
   ]
  },
  {
   "cell_type": "code",
   "execution_count": 50,
   "metadata": {
    "scrolled": true
   },
   "outputs": [
    {
     "name": "stdout",
     "output_type": "stream",
     "text": [
      "                  DataSavedTime  MilliSecond  Item001  Item002  Item003  \\\n",
      "0       2019-11-25 10:00:00.100          100      NaN      NaN    12.55   \n",
      "1       2019-11-25 10:00:00.200          200      NaN      NaN    12.55   \n",
      "2       2019-11-25 10:00:00.300          300      NaN      NaN    12.55   \n",
      "3       2019-11-25 10:00:00.400          400      NaN      NaN    12.55   \n",
      "4       2019-11-25 10:00:00.500          500      NaN      NaN    12.55   \n",
      "...                         ...          ...      ...      ...      ...   \n",
      "502036  2019-11-25 23:59:59.600          600    11.84      NaN    12.53   \n",
      "502037  2019-11-25 23:59:59.700          700    11.60      NaN    12.83   \n",
      "502038  2019-11-25 23:59:59.800          800    11.57      NaN    12.33   \n",
      "502039  2019-11-25 23:59:59.900          900    11.53      NaN    12.46   \n",
      "502040  2019-11-26 00:00:00.000            0    11.86      NaN    12.47   \n",
      "\n",
      "        Item004  Item005  Item006  Item007  Item008  ...  Item441  Item442  \\\n",
      "0         12.15     3.63    12.17    10.54    10.61  ...      NaN      NaN   \n",
      "1         12.15     3.63    12.17    10.54    10.61  ...      NaN      NaN   \n",
      "2         12.15     3.63    12.17    10.54    10.67  ...      NaN      NaN   \n",
      "3         12.26     3.63    12.64    10.61    10.67  ...      NaN      NaN   \n",
      "4         12.26     3.63    12.64    10.61    10.67  ...      NaN      NaN   \n",
      "...         ...      ...      ...      ...      ...  ...      ...      ...   \n",
      "502036    12.69     3.63    12.23    11.67    10.54  ...      NaN      NaN   \n",
      "502037    12.34     3.61    12.63    11.87    10.53  ...      NaN      NaN   \n",
      "502038    12.57     3.63    12.64    11.45    10.52  ...      NaN      NaN   \n",
      "502039    12.24     3.61    12.31    11.71    10.52  ...      NaN      NaN   \n",
      "502040    12.54     3.63    12.64    11.70    10.53  ...      NaN      NaN   \n",
      "\n",
      "        Item443  Item444  Item445  Item446  Item447  Item448  Item449  Item450  \n",
      "0           NaN      NaN      NaN      NaN      NaN      NaN      NaN      NaN  \n",
      "1           NaN      NaN      NaN      NaN      NaN      NaN      NaN      NaN  \n",
      "2           NaN      NaN      NaN      NaN      NaN      NaN      NaN      NaN  \n",
      "3           NaN      NaN      NaN      NaN      NaN      NaN      NaN      NaN  \n",
      "4           NaN      NaN      NaN      NaN      NaN      NaN      NaN      NaN  \n",
      "...         ...      ...      ...      ...      ...      ...      ...      ...  \n",
      "502036      NaN      NaN      NaN      NaN      NaN      NaN      NaN      NaN  \n",
      "502037      NaN      NaN      NaN      NaN      NaN      NaN      NaN      NaN  \n",
      "502038      NaN      NaN      NaN      NaN      NaN      NaN      NaN      NaN  \n",
      "502039      NaN      NaN      NaN      NaN      NaN      NaN      NaN      NaN  \n",
      "502040      NaN      NaN      NaN      NaN      NaN      NaN      NaN      NaN  \n",
      "\n",
      "[502041 rows x 452 columns]\n"
     ]
    }
   ],
   "source": [
    "df = pd.read_csv(\"KIA_India_data/2019-11-25/HisItemCurr.csv\")\n",
    "\n",
    "df.columns = columns\n",
    "print(df)"
   ]
  },
  {
   "cell_type": "code",
   "execution_count": 59,
   "metadata": {},
   "outputs": [
    {
     "name": "stdout",
     "output_type": "stream",
     "text": [
      "                 DataSavedTime  MilliSecond  Item001  Item002  Item003  \\\n",
      "0      2019-11-25 20:00:00.000            0      NaN     0.94    12.75   \n",
      "1      2019-11-25 20:00:00.100          100      NaN     0.95    12.09   \n",
      "2      2019-11-25 20:00:00.200          200      NaN     0.95    12.25   \n",
      "3      2019-11-25 20:00:00.300          300      NaN     0.97    12.25   \n",
      "4      2019-11-25 20:00:00.400          400      NaN     0.97    12.34   \n",
      "...                        ...          ...      ...      ...      ...   \n",
      "143996 2019-11-25 23:59:59.600          600    11.84      NaN    12.53   \n",
      "143997 2019-11-25 23:59:59.700          700    11.60      NaN    12.83   \n",
      "143998 2019-11-25 23:59:59.800          800    11.57      NaN    12.33   \n",
      "143999 2019-11-25 23:59:59.900          900    11.53      NaN    12.46   \n",
      "144000 2019-11-26 00:00:00.000            0    11.86      NaN    12.47   \n",
      "\n",
      "        Item004  Item005  Item006  Item007  Item008  ...  Item441  Item442  \\\n",
      "0         12.70     3.60    12.48    11.47    10.26  ...     None     None   \n",
      "1         12.75     3.59    12.63    12.08    10.26  ...     None     None   \n",
      "2         12.44     3.59    12.63    12.07    10.23  ...     None     None   \n",
      "3         12.44     3.63    12.34    12.07    10.23  ...     None     None   \n",
      "4         12.67     3.63    12.34    11.91    10.23  ...     None     None   \n",
      "...         ...      ...      ...      ...      ...  ...      ...      ...   \n",
      "143996    12.69     3.63    12.23    11.67    10.54  ...     None     None   \n",
      "143997    12.34     3.61    12.63    11.87    10.53  ...     None     None   \n",
      "143998    12.57     3.63    12.64    11.45    10.52  ...     None     None   \n",
      "143999    12.24     3.61    12.31    11.71    10.52  ...     None     None   \n",
      "144000    12.54     3.63    12.64    11.70    10.53  ...     None     None   \n",
      "\n",
      "        Item443  Item444  Item445  Item446  Item447  Item448  Item449  Item450  \n",
      "0          None     None     None     None     None     None     None     None  \n",
      "1          None     None     None     None     None     None     None     None  \n",
      "2          None     None     None     None     None     None     None     None  \n",
      "3          None     None     None     None     None     None     None     None  \n",
      "4          None     None     None     None     None     None     None     None  \n",
      "...         ...      ...      ...      ...      ...      ...      ...      ...  \n",
      "143996     None     None     None     None     None     None     None     None  \n",
      "143997     None     None     None     None     None     None     None     None  \n",
      "143998     None     None     None     None     None     None     None     None  \n",
      "143999     None     None     None     None     None     None     None     None  \n",
      "144000     None     None     None     None     None     None     None     None  \n",
      "\n",
      "[144001 rows x 452 columns]\n"
     ]
    }
   ],
   "source": [
    "conn = pymysql.connect(\n",
    "    host='192.168.100.225',\n",
    "    port=3306,\n",
    "    user='root',\n",
    "    password='its@1234',\n",
    "    db='KIA_India_test',\n",
    "    charset='utf8'\n",
    ")\n",
    "\n",
    "curs = conn.cursor()\n",
    "\n",
    "sql = \"select * from HisItemCurr WHERE DataSavedTime between \\\n",
    "    '2019-11-25 20:00:00' and '2019-11-26 00:00:00' ORDER BY DataSavedTime ASC\"\n",
    "curs.execute(sql)\n",
    "\n",
    "rows=curs.fetchall()\n",
    "# print(rows)\n",
    "li = list(rows)\n",
    "conn.close()\n",
    "df = pd.DataFrame(li)\n",
    "df.columns = columns\n",
    "print(df)"
   ]
  },
  {
   "cell_type": "markdown",
   "metadata": {},
   "source": [
    "### Check DL, TL data"
   ]
  },
  {
   "cell_type": "code",
   "execution_count": 52,
   "metadata": {},
   "outputs": [],
   "source": [
    "dl_list = ['DL06','DL1', 'DL2', 'DL3-1', 'DL3-2', 'DL4-1', 'DL4-2', 'DL5-1', 'DL5-2', 'DL7']\n",
    "dl_col_list = ['Item055', 'Item016', 'Item018', 'Item032', 'Item033', 'Item034', 'Item035', 'Item044', 'Item045', 'Item048']\n",
    "tl_list = ['TL1', 'TL1FORK', 'TL2', 'TL2FORK', 'TL3-1', 'TL3-1FORK', 'TL3-2', 'TL3-2FORK', 'TL4-1', 'TL4-1FORK', 'TL4-2', 'TL4-2FORK' ]\n",
    "tl_col_list = ['Item001', 'Item002', 'Item013', 'Item014', 'Item021', 'Item022', 'Item023', 'Item024', 'Item025', 'Item026', 'Item027', 'Item028']"
   ]
  },
  {
   "cell_type": "code",
   "execution_count": 54,
   "metadata": {},
   "outputs": [],
   "source": [
    "df_zero = df.fillna(0)"
   ]
  },
  {
   "cell_type": "code",
   "execution_count": 55,
   "metadata": {
    "scrolled": true
   },
   "outputs": [
    {
     "name": "stdout",
     "output_type": "stream",
     "text": [
      "NAME:  DL06\n",
      "Item:  Item055\n",
      "28488.61000000001\n",
      "NAME:  DL1\n",
      "Item:  Item016\n",
      "1404610.8899999997\n",
      "NAME:  DL2\n",
      "Item:  Item018\n",
      "1298561.6499999797\n",
      "NAME:  DL3-1\n",
      "Item:  Item032\n",
      "847988.1899999911\n",
      "NAME:  DL3-2\n",
      "Item:  Item033\n",
      "860745.2500000093\n",
      "NAME:  DL4-1\n",
      "Item:  Item034\n",
      "676502.0800000008\n",
      "NAME:  DL4-2\n",
      "Item:  Item035\n",
      "669273.2500000008\n",
      "NAME:  DL5-1\n",
      "Item:  Item044\n",
      "660334.800000005\n",
      "NAME:  DL5-2\n",
      "Item:  Item045\n",
      "667906.1300000008\n",
      "NAME:  DL7\n",
      "Item:  Item048\n",
      "0.0\n",
      "NAME:  TL1\n",
      "Item:  Item001\n",
      "1142965.5899999954\n",
      "NAME:  TL1FORK\n",
      "Item:  Item002\n",
      "168609.40000009225\n",
      "NAME:  TL2\n",
      "Item:  Item013\n",
      "2047394.8299999833\n",
      "NAME:  TL2FORK\n",
      "Item:  Item014\n",
      "184078.83000007714\n",
      "NAME:  TL3-1\n",
      "Item:  Item021\n",
      "1185881.6499999834\n",
      "NAME:  TL3-1FORK\n",
      "Item:  Item022\n",
      "129562.86000002167\n",
      "NAME:  TL3-2\n",
      "Item:  Item023\n",
      "1153408.97999999\n",
      "NAME:  TL3-2FORK\n",
      "Item:  Item024\n",
      "137158.63999997123\n",
      "NAME:  TL4-1\n",
      "Item:  Item025\n",
      "1016383.8800000089\n",
      "NAME:  TL4-1FORK\n",
      "Item:  Item026\n",
      "121200.07000003108\n",
      "NAME:  TL4-2\n",
      "Item:  Item027\n",
      "960155.0700000101\n",
      "NAME:  TL4-2FORK\n",
      "Item:  Item028\n",
      "133908.93000000183\n"
     ]
    }
   ],
   "source": [
    "# dl\n",
    "for i in range(len(dl_list)):\n",
    "    print('NAME: ', dl_list[i])\n",
    "    print('Item: ', dl_col_list[i])\n",
    "    dl_Item = list(df_zero[dl_col_list[i]])\n",
    "    print(sum(dl_Item))\n",
    "\n",
    "# tl\n",
    "for i in range(len(tl_list)):\n",
    "    print('NAME: ', tl_list[i])\n",
    "    print('Item: ', tl_col_list[i])\n",
    "    tl_Item = list(df_zero[tl_col_list[i]])\n",
    "    print(sum(tl_Item))"
   ]
  },
  {
   "cell_type": "code",
   "execution_count": null,
   "metadata": {},
   "outputs": [],
   "source": []
  },
  {
   "cell_type": "markdown",
   "metadata": {},
   "source": [
    "## Getting each wave form"
   ]
  },
  {
   "cell_type": "code",
   "execution_count": 63,
   "metadata": {},
   "outputs": [
    {
     "ename": "TypeError",
     "evalue": "ufunc 'isnan' not supported for the input types, and the inputs could not be safely coerced to any supported types according to the casting rule ''safe''",
     "output_type": "error",
     "traceback": [
      "\u001b[0;31m\u001b[0m",
      "\u001b[0;31mTypeError\u001b[0mTraceback (most recent call last)",
      "\u001b[0;32m<ipython-input-63-73776d1276fa>\u001b[0m in \u001b[0;36m<module>\u001b[0;34m\u001b[0m\n\u001b[1;32m      1\u001b[0m \u001b[0mItem055\u001b[0m \u001b[0;34m=\u001b[0m \u001b[0mlist\u001b[0m\u001b[0;34m(\u001b[0m\u001b[0mdf\u001b[0m\u001b[0;34m[\u001b[0m\u001b[0;34m'Item055'\u001b[0m\u001b[0;34m]\u001b[0m\u001b[0;34m)\u001b[0m\u001b[0;34m\u001b[0m\u001b[0;34m\u001b[0m\u001b[0m\n\u001b[0;32m----> 2\u001b[0;31m \u001b[0mresult_i\u001b[0m \u001b[0;34m=\u001b[0m \u001b[0mget_index\u001b[0m\u001b[0;34m(\u001b[0m\u001b[0mItem055\u001b[0m\u001b[0;34m)\u001b[0m\u001b[0;34m\u001b[0m\u001b[0;34m\u001b[0m\u001b[0m\n\u001b[0m\u001b[1;32m      3\u001b[0m \u001b[0;31m# print(result_i)\u001b[0m\u001b[0;34m\u001b[0m\u001b[0;34m\u001b[0m\u001b[0;34m\u001b[0m\u001b[0m\n\u001b[1;32m      4\u001b[0m \u001b[0mln\u001b[0m \u001b[0;34m=\u001b[0m \u001b[0;34m[\u001b[0m\u001b[0;34m]\u001b[0m\u001b[0;34m\u001b[0m\u001b[0;34m\u001b[0m\u001b[0m\n\u001b[1;32m      5\u001b[0m \u001b[0;32mfor\u001b[0m \u001b[0mi\u001b[0m \u001b[0;32min\u001b[0m \u001b[0mrange\u001b[0m\u001b[0;34m(\u001b[0m\u001b[0mlen\u001b[0m\u001b[0;34m(\u001b[0m\u001b[0mresult_i\u001b[0m\u001b[0;34m)\u001b[0m\u001b[0;34m)\u001b[0m\u001b[0;34m:\u001b[0m\u001b[0;34m\u001b[0m\u001b[0;34m\u001b[0m\u001b[0m\n",
      "\u001b[0;32m<ipython-input-62-a22c78af84f0>\u001b[0m in \u001b[0;36mget_index\u001b[0;34m(queue)\u001b[0m\n\u001b[1;32m     34\u001b[0m     \u001b[0;32mfor\u001b[0m \u001b[0mi\u001b[0m \u001b[0;32min\u001b[0m \u001b[0mrange\u001b[0m\u001b[0;34m(\u001b[0m\u001b[0mlen\u001b[0m\u001b[0;34m(\u001b[0m\u001b[0mqueue\u001b[0m\u001b[0;34m)\u001b[0m\u001b[0;34m)\u001b[0m\u001b[0;34m:\u001b[0m\u001b[0;34m\u001b[0m\u001b[0;34m\u001b[0m\u001b[0m\n\u001b[1;32m     35\u001b[0m         \u001b[0me\u001b[0m \u001b[0;34m=\u001b[0m \u001b[0mqueue\u001b[0m\u001b[0;34m.\u001b[0m\u001b[0mpop\u001b[0m\u001b[0;34m(\u001b[0m\u001b[0;36m0\u001b[0m\u001b[0;34m)\u001b[0m\u001b[0;34m\u001b[0m\u001b[0;34m\u001b[0m\u001b[0m\n\u001b[0;32m---> 36\u001b[0;31m         \u001b[0;32mif\u001b[0m \u001b[0;34m~\u001b[0m\u001b[0mnp\u001b[0m\u001b[0;34m.\u001b[0m\u001b[0misnan\u001b[0m\u001b[0;34m(\u001b[0m\u001b[0me\u001b[0m\u001b[0;34m)\u001b[0m\u001b[0;34m:\u001b[0m\u001b[0;34m\u001b[0m\u001b[0;34m\u001b[0m\u001b[0m\n\u001b[0m\u001b[1;32m     37\u001b[0m             \u001b[0mtmp\u001b[0m\u001b[0;34m.\u001b[0m\u001b[0mappend\u001b[0m\u001b[0;34m(\u001b[0m\u001b[0mi\u001b[0m\u001b[0;34m)\u001b[0m\u001b[0;34m\u001b[0m\u001b[0;34m\u001b[0m\u001b[0m\n\u001b[1;32m     38\u001b[0m             \u001b[0;31m# print(i)\u001b[0m\u001b[0;34m\u001b[0m\u001b[0;34m\u001b[0m\u001b[0;34m\u001b[0m\u001b[0m\n",
      "\u001b[0;31mTypeError\u001b[0m: ufunc 'isnan' not supported for the input types, and the inputs could not be safely coerced to any supported types according to the casting rule ''safe''"
     ]
    }
   ],
   "source": [
    "Item055 = list(df['Item055'])\n",
    "result_i = get_index(Item055)\n",
    "# print(result_i)\n",
    "ln = []\n",
    "for i in range(len(result_i)):\n",
    "    a = result_i[i]\n",
    "#     if len(a) < 5:\n",
    "#         continue\n",
    "#     else:\n",
    "    print(\"Step: \", i, \"len: \", len(a))\n",
    "    # print(a)\n",
    "    print(\"Start Index:\", a[0], \"Stop Index:\", a[-1])\n",
    "    stti = a[0]\n",
    "    stpi = a[-1]\n",
    "    tmp_df = df.iloc[stti:stpi]\n",
    "    print(tmp_df.shape)\n",
    "    print(tmp_df)\n",
    "    print(sum(tmp_df['Item055']))\n",
    "    start = tmp_df['DataSavedTime'].iloc[0]\n",
    "    stop = tmp_df['DataSavedTime'].iloc[-1]\n",
    "    print(\"Start:\", tmp_df['DataSavedTime'].iloc[0])\n",
    "    print(\"Stop:\", tmp_df['DataSavedTime'].iloc[-1])\n",
    "    print(stop - start)\n",
    "    plt.plot(tmp_df['DataSavedTime'], tmp_df['Item005'])\n",
    "    plt.show()\n",
    "    ln.append(len(a))\n",
    "    \n",
    "plt.hist(ln)\n",
    "print(len(ln))"
   ]
  },
  {
   "cell_type": "markdown",
   "metadata": {},
   "source": [
    "# DF to DB"
   ]
  },
  {
   "cell_type": "code",
   "execution_count": 2,
   "metadata": {
    "scrolled": false
   },
   "outputs": [
    {
     "name": "stdout",
     "output_type": "stream",
     "text": [
      "Collecting sqlalchemy\n",
      "\u001b[?25l  Downloading https://files.pythonhosted.org/packages/34/5c/0e1d7ad0ca52544bb12f9cb8d5cc454af45821c92160ffedd38db0a317f6/SQLAlchemy-1.3.11.tar.gz (6.0MB)\n",
      "\u001b[K     |████████████████████████████████| 6.0MB 801kB/s eta 0:00:01\n",
      "\u001b[?25hBuilding wheels for collected packages: sqlalchemy\n",
      "  Building wheel for sqlalchemy (setup.py) ... \u001b[?25ldone\n",
      "\u001b[?25h  Created wheel for sqlalchemy: filename=SQLAlchemy-1.3.11-cp36-cp36m-linux_x86_64.whl size=1213867 sha256=8215edd9db1f03433e46a6bdb2ab9d2d96d6c2fb9922012b50ac4c4dd6826fee\n",
      "  Stored in directory: /root/.cache/pip/wheels/a3/67/7d/6c41104a1a08ff1a25e260d3edec3ac19203141d1aaa2f0975\n",
      "Successfully built sqlalchemy\n",
      "Installing collected packages: sqlalchemy\n",
      "Successfully installed sqlalchemy-1.3.11\n"
     ]
    }
   ],
   "source": [
    "!pip3 install sqlalchemy"
   ]
  },
  {
   "cell_type": "code",
   "execution_count": 12,
   "metadata": {},
   "outputs": [
    {
     "name": "stdout",
     "output_type": "stream",
     "text": [
      "{'mysql': {'database': 'KIA_India_test',\n",
      "           'password': 'its@1234',\n",
      "           'server': '192.168.100.225',\n",
      "           'user': 'root'}}\n"
     ]
    }
   ],
   "source": [
    "with open('KIA_India_data/env.json') as data_file:    \n",
    "    data = json.load(data_file)\n",
    "pprint(data)\n",
    "        "
   ]
  },
  {
   "cell_type": "code",
   "execution_count": 46,
   "metadata": {},
   "outputs": [],
   "source": [
    "import numpy as np\n",
    "import pandas as pd\n",
    "from sqlalchemy import create_engine\n",
    "import pymysql\n",
    "import json\n",
    "from pprint import pprint\n",
    "\n",
    "'''\n",
    "INPUT:\n",
    "      Item                 DateTime        Date  TimeZone   Sum  Average  Avg2535  Std  Unbalance  StopTime  Peak\n",
    "0  Item001  2019-06-25 17:00:00.000  2019-06-25  17:00:00  1200       12       11  0.1       0.06       200   9.1\n",
    "1  Item001  2019-06-25 17:00:00.100  2019-06-25  17:00:00  1300       13       12  0.2       0.07       100   9.7\n",
    "2  Item001  2019-06-25 17:00:00.200  2019-06-25  17:00:00  1400       11       13  0.3       0.01       600   9.5\n",
    "3  Item001  2019-06-25 17:00:00.300  2019-06-25  17:00:00  1200       16       21  0.4       0.04       200   9.1\n",
    "and\n",
    "tablename\n",
    "OUTPUT:\n",
    "save database\n",
    "'''\n",
    "\n",
    "def DFtoDB(df, tablename):\n",
    "    '''\n",
    "    test\n",
    "\n",
    "    data = [\n",
    "        ['Item001', '2019-06-25 17:00:00', '2019-06-25', '17:00:00', 1200, 12, 11, 0.1, 0.06, 200, 9.1],\n",
    "        ['Item001', '2019-06-25 17:30:00', '2019-06-25', '17:30:00', 1300, 13, 12, 0.2, 0.07, 100, 9.7],\n",
    "        ['Item001', '2019-06-25 18:00:00', '2019-06-25', '18:00:00', 1400, 11, 13, 0.3, 0.01, 600, 9.5],\n",
    "        ['Item001', '2019-06-25 18:30:00', '2019-06-25', '18:30:00', 1200, 16, 21, 0.4, 0.04, 200, 9.1],\n",
    "    ]\n",
    "\n",
    "    col = [\n",
    "        'Item',\n",
    "        'DateTime',\n",
    "        'Date',\n",
    "        'TimeZone',\n",
    "        'Sum',\n",
    "        'Average',\n",
    "        'Avg2535',\n",
    "        'Std',\n",
    "        'Unbalance',\n",
    "        'StopTime', \n",
    "        'Peak'\n",
    "    ]\n",
    "\n",
    "    df_tz = pd.DataFrame(data, columns = col)\n",
    "\n",
    "    DFtoDB(df_tz, 'timezoneanalysis')\n",
    "    '''\n",
    "    with open('KIA_India_data/env.json') as data_file:    \n",
    "        data = json.load(data_file)\n",
    "    pprint(data)\n",
    "    user = data[\"mysql\"][\"user\"]\n",
    "    password = data[\"mysql\"][\"password\"]\n",
    "    database = data[\"mysql\"][\"database\"]\n",
    "    server = data[\"mysql\"][\"server\"]\n",
    "\n",
    "    pymysql.install_as_MySQLdb()\n",
    "    engine = create_engine(\"mysql+mysqldb://\"+user+\":\"+password+\"@\"+server+\"/\"+database, encoding='ISO-8859-1')\n",
    "\n",
    "    df.to_sql(name=tablename, con=engine, if_exists='append', index=False)\n"
   ]
  },
  {
   "cell_type": "code",
   "execution_count": 51,
   "metadata": {
    "scrolled": false
   },
   "outputs": [
    {
     "name": "stdout",
     "output_type": "stream",
     "text": [
      "{'mysql': {'database': 'KIA_India_test',\n",
      "           'password': 'its@1234',\n",
      "           'server': '192.168.100.225',\n",
      "           'user': 'root'}}\n"
     ]
    }
   ],
   "source": [
    "DFtoDB(df, 'HisItemCurr')"
   ]
  },
  {
   "cell_type": "markdown",
   "metadata": {},
   "source": [
    "## HisAvg"
   ]
  },
  {
   "cell_type": "code",
   "execution_count": 39,
   "metadata": {
    "scrolled": true
   },
   "outputs": [
    {
     "name": "stdout",
     "output_type": "stream",
     "text": [
      "                  DataSavedTime  MilliSecond DefServer     DefTable DefColumn  \\\n",
      "0       2019-11-25 10:00:00.000            0        S1  HisItemCurr   Item005   \n",
      "1       2019-11-25 10:00:00.000            0        S1  HisItemCurr   Item006   \n",
      "2       2019-11-25 10:00:00.000            0        S1  HisItemCurr   Item007   \n",
      "3       2019-11-25 10:00:00.000            0        S1  HisItemCurr   Item008   \n",
      "4       2019-11-25 10:00:00.000            0        S1  HisItemCurr   Item009   \n",
      "...                         ...          ...       ...          ...       ...   \n",
      "541767  2019-11-25 23:59:56.500          500        S1  HisItemCurr   Item020   \n",
      "541768  2019-11-25 23:59:57.400          400        S1  HisItemCurr   Item319   \n",
      "541769  2019-11-25 23:59:57.400          400        S1  HisItemCurr   Item403   \n",
      "541770  2019-11-25 23:59:57.700          700        S1  HisItemCurr   Item410   \n",
      "541771  2019-11-25 23:59:58.600          600        S1  HisItemCurr   Item400   \n",
      "\n",
      "          Value   Area Unit                     Time  \n",
      "0         3.594   2159    A  2019-11-25 10:00:00.000  \n",
      "1        12.590   7566    A  2019-11-25 10:00:00.000  \n",
      "2        11.356   6825    A  2019-11-25 10:00:00.000  \n",
      "3        10.433   6270    A  2019-11-25 10:00:00.000  \n",
      "4        10.189   6123    A  2019-11-25 10:00:00.000  \n",
      "...         ...    ...  ...                      ...  \n",
      "541767    2.723   1636    A  2019-11-25 23:59:56.500  \n",
      "541768  155.510  93461    A  2019-11-25 23:59:57.400  \n",
      "541769   40.609   1502    A  2019-11-25 23:59:57.400  \n",
      "541770    0.542     24    A  2019-11-25 23:59:57.700  \n",
      "541771   55.860   1675    A  2019-11-25 23:59:58.600  \n",
      "\n",
      "[541772 rows x 9 columns]\n"
     ]
    }
   ],
   "source": [
    "df_avg = pd.read_csv(\"KIA_India_data/2019-11-25/HisAvg.csv\",encoding='ISO-8859-1')\n",
    "\n",
    "df_avg.columns = ['DataSavedTime', 'MilliSecond', 'DefServer', 'DefTable', 'DefColumn', 'Value', 'Area', 'Unit', 'Time']\n",
    "print(df_avg)"
   ]
  },
  {
   "cell_type": "code",
   "execution_count": 43,
   "metadata": {
    "scrolled": true
   },
   "outputs": [
    {
     "name": "stdout",
     "output_type": "stream",
     "text": [
      "{'mysql': {'database': 'KIA_India_test',\n",
      "           'password': 'its@1234',\n",
      "           'server': '192.168.100.225',\n",
      "           'user': 'root'}}\n"
     ]
    }
   ],
   "source": [
    "DFtoDB(df_avg, 'HisAvg')"
   ]
  },
  {
   "cell_type": "markdown",
   "metadata": {},
   "source": [
    "## Peak and Mean"
   ]
  },
  {
   "cell_type": "code",
   "execution_count": 41,
   "metadata": {
    "scrolled": true
   },
   "outputs": [
    {
     "name": "stdout",
     "output_type": "stream",
     "text": [
      "                  DataSavedTime  MilliSecond DefServer     DefTable DefColumn  \\\n",
      "0       2019-11-25 10:00:00.300          300        S1  HisItemCurr   Item141   \n",
      "1       2019-11-25 10:00:00.300          300        S1  HisItemCurr   Item325   \n",
      "2       2019-11-25 10:00:00.300          300        S1  HisItemCurr   Item397   \n",
      "3       2019-11-25 10:00:00.600          600        S1  HisItemCurr   Item341   \n",
      "4       2019-11-25 10:00:00.800          800        S1  HisItemCurr   Item018   \n",
      "...                         ...          ...       ...          ...       ...   \n",
      "236748  2019-11-25 23:59:57.800          800        S1  HisItemCurr   Item001   \n",
      "236749  2019-11-25 23:59:59.200          200        S1  HisItemCurr   Item111   \n",
      "236750  2019-11-25 23:59:59.400          400        S1  HisItemCurr   Item323   \n",
      "236751  2019-11-25 23:59:59.700          700        S1  HisItemCurr   Item222   \n",
      "236752  2019-11-25 23:59:59.900          900        S1  HisItemCurr   Item303   \n",
      "\n",
      "         Value Unit                     Time  \n",
      "0         6.27    A  2019-11-25 10:00:59.700  \n",
      "1        18.88    A  2019-11-25 10:00:58.200  \n",
      "2         5.42    A  2019-11-25 10:00:58.600  \n",
      "3        17.76    A  2019-11-25 10:00:58.300  \n",
      "4        59.36    A  2019-11-25 10:00:09.900  \n",
      "...        ...  ...                      ...  \n",
      "236748   57.26    A  2019-11-26 00:00:06.400  \n",
      "236749   43.85    A  2019-11-26 00:00:43.600  \n",
      "236750  168.60    A  2019-11-26 00:00:43.600  \n",
      "236751   19.04    A  2019-11-26 00:00:59.400  \n",
      "236752  150.60    A  2019-11-26 00:00:43.600  \n",
      "\n",
      "[236753 rows x 8 columns]\n",
      "                  DataSavedTime  MilliSecond DefServer     DefTable DefColumn  \\\n",
      "0       2019-11-25 10:01:40.500          600        S1  HisItemCurr   Item003   \n",
      "1       2019-11-25 10:02:40.600          600        S1  HisItemCurr   Item003   \n",
      "2       2019-11-25 10:03:40.600          600        S1  HisItemCurr   Item003   \n",
      "3       2019-11-25 10:04:40.600          700        S1  HisItemCurr   Item003   \n",
      "4       2019-11-25 10:05:40.700          700        S1  HisItemCurr   Item003   \n",
      "...                         ...          ...       ...          ...       ...   \n",
      "200507  2019-11-25 23:48:32.400          500        S1  HisItemCurr   Item401   \n",
      "200508  2019-11-25 23:49:01.300          400        S1  HisItemCurr   Item401   \n",
      "200509  2019-11-25 23:52:56.400          100        S1  HisItemCurr   Item401   \n",
      "200510  2019-11-25 23:57:15.800          500        S1  HisItemCurr   Item401   \n",
      "200511  2019-11-25 23:58:52.400          200        S1  HisItemCurr   Item401   \n",
      "\n",
      "         Value Unit                     Time  \n",
      "0       12.329    A  2019-11-25 10:02:38.600  \n",
      "1       12.556    A  2019-11-25 10:03:38.600  \n",
      "2       13.293    A  2019-11-25 10:04:38.600  \n",
      "3       12.829    A  2019-11-25 10:05:38.700  \n",
      "4       12.564    A  2019-11-25 10:06:38.700  \n",
      "...        ...  ...                      ...  \n",
      "200507   0.320    A  2019-11-25 23:48:34.500  \n",
      "200508   0.320    A  2019-11-25 23:49:04.400  \n",
      "200509   0.652    A  2019-11-25 23:53:00.100  \n",
      "200510   0.400    A  2019-11-25 23:57:18.500  \n",
      "200511   0.240    A  2019-11-25 23:58:54.200  \n",
      "\n",
      "[200512 rows x 8 columns]\n"
     ]
    }
   ],
   "source": [
    "df_peak = pd.read_csv(\"KIA_India_data/2019-11-25/HisPeak.csv\", encoding='ISO-8859-1')\n",
    "\n",
    "df_peak.columns = ['DataSavedTime', 'MilliSecond', 'DefServer', 'DefTable', 'DefColumn', 'Value', 'Unit', 'Time']\n",
    "print(df_peak)\n",
    "\n",
    "df_mean = pd.read_csv(\"KIA_India_data/2019-11-25/HisMean.csv\", encoding='ISO-8859-1')\n",
    "\n",
    "df_mean.columns = ['DataSavedTime', 'MilliSecond', 'DefServer', 'DefTable', 'DefColumn', 'Value', 'Unit', 'Time']\n",
    "print(df_mean)"
   ]
  },
  {
   "cell_type": "code",
   "execution_count": 48,
   "metadata": {},
   "outputs": [
    {
     "name": "stdout",
     "output_type": "stream",
     "text": [
      "{'mysql': {'database': 'KIA_India_test',\n",
      "           'password': 'its@1234',\n",
      "           'server': '192.168.100.225',\n",
      "           'user': 'root'}}\n"
     ]
    }
   ],
   "source": [
    "DFtoDB(df_peak, 'HisPeak')\n"
   ]
  },
  {
   "cell_type": "code",
   "execution_count": 45,
   "metadata": {},
   "outputs": [
    {
     "name": "stdout",
     "output_type": "stream",
     "text": [
      "{'mysql': {'database': 'KIA_India_test',\n",
      "           'password': 'its@1234',\n",
      "           'server': '192.168.100.225',\n",
      "           'user': 'root'}}\n"
     ]
    }
   ],
   "source": [
    "DFtoDB(df_mean, 'HisMean')"
   ]
  }
 ],
 "metadata": {
  "kernelspec": {
   "display_name": "Python 3",
   "language": "python",
   "name": "python3"
  },
  "language_info": {
   "codemirror_mode": {
    "name": "ipython",
    "version": 3
   },
   "file_extension": ".py",
   "mimetype": "text/x-python",
   "name": "python",
   "nbconvert_exporter": "python",
   "pygments_lexer": "ipython3",
   "version": "3.6.8"
  }
 },
 "nbformat": 4,
 "nbformat_minor": 2
}

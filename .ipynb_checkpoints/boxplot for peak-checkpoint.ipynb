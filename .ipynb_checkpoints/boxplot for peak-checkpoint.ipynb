{
 "cells": [
  {
   "cell_type": "code",
   "execution_count": 2,
   "metadata": {},
   "outputs": [],
   "source": [
    "import pandas as pd\n",
    "import numpy as np\n",
    "import pymysql\n",
    "import matplotlib.pyplot as plt\n",
    "import seaborn as sns\n",
    "plt.rcParams['figure.figsize'] = [10, 6]\n",
    "%matplotlib inline"
   ]
  },
  {
   "cell_type": "code",
   "execution_count": 9,
   "metadata": {},
   "outputs": [
    {
     "data": {
      "image/png": "[encoded data removed]",
      "text/plain": [
       "<Figure size 432x288 with 1 Axes>"
      ]
     },
     "metadata": {
      "needs_background": "light"
     },
     "output_type": "display_data"
    },
    {
     "name": "stdout",
     "output_type": "stream",
     "text": [
      "Q2 quantile of compare_data :  50.98\n",
      "Q1 quantile of compare_data :  45.41\n",
      "Q3 quantile of compare_data :  55.785\n",
      "100th quantile of compare_data :  42.91\n"
     ]
    },
    {
     "data": {
      "image/png": "[encoded data removed]",
      "text/plain": [
       "<Figure size 432x288 with 1 Axes>"
      ]
     },
     "metadata": {
      "needs_background": "light"
     },
     "output_type": "display_data"
    },
    {
     "name": "stdout",
     "output_type": "stream",
     "text": [
      "Q2 quantile of current_data :  51.55\n",
      "Q1 quantile of current_data :  45.2875\n",
      "Q3 quantile of current_data :  56.2525\n",
      "100th quantile of current_data :  43.181000000000004\n"
     ]
    }
   ],
   "source": [
    "conn = pymysql.connect(\n",
    "    host='192.168.100.50',\n",
    "    port=16033,\n",
    "    user='root',\n",
    "    password='its@1234',\n",
    "    db='UYeG_Cloud',\n",
    "    charset='utf8'\n",
    ")\n",
    "\n",
    "curs = conn.cursor()\n",
    "\n",
    "\n",
    "# LAST 24HOURS : 2019-10-09 10:00:00 ~ 2019-10-10 10:00:00 : 10초 데이터 가져오기\n",
    "sql = \"SELECT Value FROM HisPeak10Seconds WHERE DefColumn = 'Item005' and DataSavedTime \\\n",
    "    BETWEEN '2019-10-09 10:00:00' and '2019-10-10 10:00:00' ORDER BY DataSavedTime DESC\"\n",
    "curs.execute(sql)\n",
    "\n",
    "rows=curs.fetchall()\n",
    "\n",
    "# LAST 1HOUR : 2019-10-10 10:00:00 ~ 2019-10-10 11:00:00 : 1초 데이터 가져오기\n",
    "sql2 = \"SELECT Value FROM HisPeak WHERE DefColumn = 'Item005' and DataSavedTime \\\n",
    "    BETWEEN '2019-10-10 10:00:00' and '2019-10-10 11:00:00' ORDER BY DataSavedTime DESC\"\n",
    "curs.execute(sql2)\n",
    "rows2=curs.fetchall()\n",
    "conn.close()\n",
    "\n",
    "compare_data = list(rows)\n",
    "current_data = list(rows2)\n",
    "\n",
    "# 람다식으로 list 만들기 comprehension\n",
    "# [row for row in map(lambda x: x[0], li) if row != None]\n",
    "compare_data = list(filter(lambda x: x != None, map(lambda x: x[0], compare_data)))\n",
    "current_data = list(filter(lambda x: x != None, map(lambda x: x[0], current_data)))\n",
    "\n",
    "\n",
    "# Basic box plot\n",
    "plt.boxplot(compare_data, sym=\"bo\")\n",
    "plt.title('Box plot of Max Current compare_data')\n",
    "plt.xticks([1], ['Max Current'])\n",
    "plt.show()\n",
    "\n",
    "# print('compare_data Median', np.median(compare_data))\n",
    "print(\"Q2 quantile of compare_data : \", np.quantile(compare_data, .50)) \n",
    "print(\"Q1 quantile of compare_data : \", np.quantile(compare_data, .25)) \n",
    "print(\"Q3 quantile of compare_data : \", np.quantile(compare_data, .75)) \n",
    "print(\"100th quantile of compare_data : \", np.quantile(compare_data, .1))  \n",
    "\n",
    "plt.boxplot(current_data, sym=\"bo\")\n",
    "plt.title('Box plot of Max Current current_data')\n",
    "plt.xticks([1], ['Max Current'])\n",
    "plt.show()\n",
    "\n",
    "# print('current_data Median', np.median(current_data))\n",
    "print(\"Q2 quantile of current_data : \", np.quantile(current_data, .50)) \n",
    "print(\"Q1 quantile of current_data : \", np.quantile(current_data, .25)) \n",
    "print(\"Q3 quantile of current_data : \", np.quantile(current_data, .75)) \n",
    "print(\"100th quantile of current_data : \", np.quantile(current_data, .1))  "
   ]
  }
 ],
 "metadata": {
  "kernelspec": {
   "display_name": "Python 3",
   "language": "python",
   "name": "python3"
  },
  "language_info": {
   "codemirror_mode": {
    "name": "ipython",
    "version": 3
   },
   "file_extension": ".py",
   "mimetype": "text/x-python",
   "name": "python",
   "nbconvert_exporter": "python",
   "pygments_lexer": "ipython3",
   "version": "3.6.8"
  }
 },
 "nbformat": 4,
 "nbformat_minor": 2
}
